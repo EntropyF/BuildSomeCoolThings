{
 "cells": [
  {
   "cell_type": "markdown",
   "metadata": {},
   "source": [
    "# First Draft of IVS Score Pipeline (3007)"
   ]
  },
  {
   "cell_type": "code",
   "execution_count": 24,
   "metadata": {},
   "outputs": [],
   "source": [
    "import pandas as pd\n",
    "\n",
    "# Load data from the excel into a DataFrame\n",
    "file_path = 'full_length_two_per_bin.xlsx'\n",
    "df = pd.read_excel(file_path)\n",
    "\n",
    "# display(df)"
   ]
  },
  {
   "cell_type": "code",
   "execution_count": 26,
   "metadata": {},
   "outputs": [],
   "source": [
    "from scipy.stats import ks_2samp\n",
    "\n",
    "# Ensure all data is numeric\n",
    "df = df.apply(pd.to_numeric, errors='coerce')\n",
    "\n",
    "# Function to compute pairwise Kolmogorov-Smirnov test\n",
    "def ks_test(dataframe):\n",
    "    vendors = dataframe.columns[1:]\n",
    "    ks_results = pd.DataFrame(index=vendors, columns=vendors)\n",
    "    for i in vendors:\n",
    "        for j in vendors:\n",
    "            ks_stat, ks_pvalue = ks_2samp(dataframe[i], dataframe[j])\n",
    "            ks_results.loc[i, j] = ks_stat\n",
    "    return ks_results\n",
    "\n",
    "# Compute the Kolmogorov-Smirnov test results\n",
    "ks_results = ks_test(df)\n",
    "\n",
    "# # Display the results\n",
    "# print(\"Kolmogorov-Smirnov Test Results:\")\n",
    "# print(ks_results)"
   ]
  },
  {
   "cell_type": "code",
   "execution_count": 30,
   "metadata": {},
   "outputs": [
    {
     "name": "stdout",
     "output_type": "stream",
     "text": [
      "Filtered Kolmogorov-Smirnov Test Results:\n",
      "             ESET_NOD32 Microsoft Kaspersky     Avira BitDefender TrendMicro\n",
      "ALYac          0.243243  0.189189  0.216216  0.135135    0.081081   0.432432\n",
      "APEX            0.27027  0.162162  0.162162  0.108108    0.243243   0.432432\n",
      "AVG            0.162162  0.189189   0.27027  0.189189    0.135135   0.486486\n",
      "Acronis        0.891892  0.837838   0.72973  0.783784    0.675676   0.459459\n",
      "AhnLab_V3      0.324324  0.162162  0.108108  0.135135    0.162162   0.378378\n",
      "...                 ...       ...       ...       ...         ...        ...\n",
      "Zillya         0.540541  0.378378  0.297297  0.405405    0.378378   0.405405\n",
      "ZoneAlarm      0.297297  0.135135  0.162162  0.135135    0.162162   0.378378\n",
      "Zoner          0.945946  0.891892  0.810811  0.864865    0.756757   0.567568\n",
      "alibabacloud   0.135135  0.216216  0.324324  0.216216    0.189189   0.540541\n",
      "tehtris        0.891892  0.783784  0.648649   0.72973    0.648649   0.405405\n",
      "\n",
      "[78 rows x 6 columns]\n"
     ]
    }
   ],
   "source": [
    "# Filter the columns to include only the specified titles\n",
    "titles_to_keep = [\"ESET_NOD32\", \"Microsoft\", \"Kaspersky\", \"Avira\", \"BitDefender\", \"TrendMicro\"]\n",
    "\n",
    "ks_results_filtered = ks_results[titles_to_keep]\n",
    "\n",
    "# Display the filtered results\n",
    "print(\"Filtered Kolmogorov-Smirnov Test Results:\")\n",
    "print(ks_results_filtered)"
   ]
  },
  {
   "cell_type": "code",
   "execution_count": 29,
   "metadata": {},
   "outputs": [
    {
     "name": "stdout",
     "output_type": "stream",
     "text": [
      "             ESET_NOD32 Microsoft Kaspersky     Avira BitDefender TrendMicro  \\\n",
      "ALYac          0.243243  0.189189  0.216216  0.135135    0.081081   0.432432   \n",
      "APEX            0.27027  0.162162  0.162162  0.108108    0.243243   0.432432   \n",
      "AVG            0.162162  0.189189   0.27027  0.189189    0.135135   0.486486   \n",
      "Acronis        0.891892  0.837838   0.72973  0.783784    0.675676   0.459459   \n",
      "AhnLab_V3      0.324324  0.162162  0.108108  0.135135    0.162162   0.378378   \n",
      "...                 ...       ...       ...       ...         ...        ...   \n",
      "Zillya         0.540541  0.378378  0.297297  0.405405    0.378378   0.405405   \n",
      "ZoneAlarm      0.297297  0.135135  0.162162  0.135135    0.162162   0.378378   \n",
      "Zoner          0.945946  0.891892  0.810811  0.864865    0.756757   0.567568   \n",
      "alibabacloud   0.135135  0.216216  0.324324  0.216216    0.189189   0.540541   \n",
      "tehtris        0.891892  0.783784  0.648649   0.72973    0.648649   0.405405   \n",
      "\n",
      "                  pre_1     pre_2     Score  \n",
      "ALYac           4.27027  0.234177  2.341772  \n",
      "APEX           4.324324   0.23125    2.3125  \n",
      "AVG            4.324324   0.23125    2.3125  \n",
      "Acronis       16.621622  0.060163  0.601626  \n",
      "AhnLab_V3      4.297297  0.232704  2.327044  \n",
      "...                 ...       ...       ...  \n",
      "Zillya         8.702703  0.114907  1.149068  \n",
      "ZoneAlarm      4.216216  0.237179  2.371795  \n",
      "Zoner         18.054054  0.055389  0.553892  \n",
      "alibabacloud   4.756757  0.210227  2.102273  \n",
      "tehtris       15.756757  0.063465  0.634648  \n",
      "\n",
      "[78 rows x 9 columns]\n",
      "Sum of all values in the Score column: 126.09396900223351\n"
     ]
    },
    {
     "name": "stderr",
     "output_type": "stream",
     "text": [
      "C:\\Users\\t-jiajunfu\\AppData\\Local\\Temp\\ipykernel_13032\\2891214462.py:2: SettingWithCopyWarning: \n",
      "A value is trying to be set on a copy of a slice from a DataFrame.\n",
      "Try using .loc[row_indexer,col_indexer] = value instead\n",
      "\n",
      "See the caveats in the documentation: https://pandas.pydata.org/pandas-docs/stable/user_guide/indexing.html#returning-a-view-versus-a-copy\n",
      "  ks_results_filtered['pre_1'] = (6 * ks_results_filtered['ESET_NOD32'] +\n",
      "C:\\Users\\t-jiajunfu\\AppData\\Local\\Temp\\ipykernel_13032\\2891214462.py:9: SettingWithCopyWarning: \n",
      "A value is trying to be set on a copy of a slice from a DataFrame.\n",
      "Try using .loc[row_indexer,col_indexer] = value instead\n",
      "\n",
      "See the caveats in the documentation: https://pandas.pydata.org/pandas-docs/stable/user_guide/indexing.html#returning-a-view-versus-a-copy\n",
      "  ks_results_filtered['pre_2'] = 1 / ks_results_filtered['pre_1']\n",
      "C:\\Users\\t-jiajunfu\\AppData\\Local\\Temp\\ipykernel_13032\\2891214462.py:10: SettingWithCopyWarning: \n",
      "A value is trying to be set on a copy of a slice from a DataFrame.\n",
      "Try using .loc[row_indexer,col_indexer] = value instead\n",
      "\n",
      "See the caveats in the documentation: https://pandas.pydata.org/pandas-docs/stable/user_guide/indexing.html#returning-a-view-versus-a-copy\n",
      "  ks_results_filtered['Score'] = 10 * ks_results_filtered['pre_2']\n"
     ]
    }
   ],
   "source": [
    "# Calculate the pre_1, pre_2, and Score columns\n",
    "ks_results_filtered['pre_1'] = (6 * ks_results_filtered['ESET_NOD32'] +\n",
    "                                5 * ks_results_filtered['Microsoft'] +\n",
    "                                4 * ks_results_filtered['Kaspersky'] +\n",
    "                                3 * ks_results_filtered['Avira'] +\n",
    "                                2 * ks_results_filtered['BitDefender'] +\n",
    "                                1 * ks_results_filtered['TrendMicro'])\n",
    "\n",
    "ks_results_filtered['pre_2'] = 1 / ks_results_filtered['pre_1']\n",
    "ks_results_filtered['Score'] = 10 * ks_results_filtered['pre_2']\n",
    "\n",
    "# Calculate the sum of all values in the Score column\n",
    "score_sum = ks_results_filtered['Score'].sum()\n",
    "\n",
    "# Print the resultant dataframe and the sum of scores\n",
    "print(ks_results_filtered)\n",
    "print(\"Sum of all values in the Score column:\", score_sum)"
   ]
  },
  {
   "cell_type": "code",
   "execution_count": 14,
   "metadata": {},
   "outputs": [
    {
     "name": "stdout",
     "output_type": "stream",
     "text": [
      "Classification report saved to 0720_score.xlsx\n"
     ]
    }
   ],
   "source": [
    "# Save the classification report to an Excel file\n",
    "ks_results_filtered.to_excel(\"0720_score.xlsx\", index=True)\n",
    "\n",
    "print(\"Classification report saved to 0720_score.xlsx\")"
   ]
  },
  {
   "cell_type": "markdown",
   "metadata": {},
   "source": [
    "    Generate the format of part of the Kusto query"
   ]
  },
  {
   "cell_type": "code",
   "execution_count": 32,
   "metadata": {},
   "outputs": [
    {
     "name": "stdout",
     "output_type": "stream",
     "text": [
      "    2.34 * iif(Detections has 'ALYac:', 1, 0) +\n",
      "    2.31 * iif(Detections has 'APEX:', 1, 0) +\n",
      "    2.31 * iif(Detections has 'AVG:', 1, 0) +\n",
      "    0.6 * iif(Detections has 'Acronis:', 1, 0) +\n",
      "    2.33 * iif(Detections has 'AhnLab-V3:', 1, 0) +\n",
      "    1.42 * iif(Detections has 'Alibaba:', 1, 0) +\n",
      "    1.77 * iif(Detections has 'Antiy-AVL:', 1, 0) +\n",
      "    2.34 * iif(Detections has 'Arcabit:', 1, 0) +\n",
      "    2.31 * iif(Detections has 'Avast:', 1, 0) +\n",
      "    0.61 * iif(Detections has 'Avast-Mobile:', 1, 0) +\n",
      "    2.66 * iif(Detections has 'Avira:', 1, 0) +\n",
      "    0.62 * iif(Detections has 'Baidu:', 1, 0) +\n",
      "    2.47 * iif(Detections has 'BitDefender:', 1, 0) +\n",
      "    0.64 * iif(Detections has 'BitDefenderFalx:', 1, 0) +\n",
      "    0.78 * iif(Detections has 'BitDefenderTheta:', 1, 0) +\n",
      "    1.19 * iif(Detections has 'Bkav:', 1, 0) +\n",
      "    1.21 * iif(Detections has 'CAT-QuickHeal:', 1, 0) +\n",
      "    0.49 * iif(Detections has 'CMC:', 1, 0) +\n",
      "    1.55 * iif(Detections has 'ClamAV:', 1, 0) +\n",
      "    2.03 * iif(Detections has 'CrowdStrike:', 1, 0) +\n",
      "    0.93 * iif(Detections has 'Cybereason:', 1, 0) +\n",
      "    1.96 * iif(Detections has 'Cylance:', 1, 0) +\n",
      "    1.6 * iif(Detections has 'Cynet:', 1, 0) +\n",
      "    1.85 * iif(Detections has 'DeepInstinct:', 1, 0) +\n",
      "    2.34 * iif(Detections has 'DrWeb:', 1, 0) +\n",
      "    2.2 * iif(Detections has 'ESET-NOD32:', 1, 0) +\n",
      "    2.55 * iif(Detections has 'Elastic:', 1, 0) +\n",
      "    2.15 * iif(Detections has 'Emsisoft:', 1, 0) +\n",
      "    2.59 * iif(Detections has 'F-Secure:', 1, 0) +\n",
      "    1.8 * iif(Detections has 'FireEye:', 1, 0) +\n",
      "    1.21 * iif(Detections has 'Fortinet:', 1, 0) +\n",
      "    2.13 * iif(Detections has 'GData:', 1, 0) +\n",
      "    1.15 * iif(Detections has 'Google:', 1, 0) +\n",
      "    1.43 * iif(Detections has 'Gridinsoft:', 1, 0) +\n",
      "    1.05 * iif(Detections has 'Ikarus:', 1, 0) +\n",
      "    1.04 * iif(Detections has 'Jiangmin:', 1, 0) +\n",
      "    1.88 * iif(Detections has 'K7AntiVirus:', 1, 0) +\n",
      "    2.13 * iif(Detections has 'K7GW:', 1, 0) +\n",
      "    2.01 * iif(Detections has 'Kaspersky:', 1, 0) +\n",
      "    2.22 * iif(Detections has 'Kingsoft:', 1, 0) +\n",
      "    1.65 * iif(Detections has 'Lionic:', 1, 0) +\n",
      "    2.36 * iif(Detections has 'MAX:', 1, 0) +\n",
      "    2.47 * iif(Detections has 'Malwarebytes:', 1, 0) +\n",
      "    1.41 * iif(Detections has 'MaxSecure:', 1, 0) +\n",
      "    1.57 * iif(Detections has 'McAfee:', 1, 0) +\n",
      "    2.27 * iif(Detections has 'McAfeeD:', 1, 0) +\n",
      "    2.36 * iif(Detections has 'MicroWorld-eScan:', 1, 0) +\n",
      "    2.85 * iif(Detections has 'Microsoft:', 1, 0) +\n",
      "    1.03 * iif(Detections has 'NANO-Antivirus:', 1, 0) +\n",
      "    2.3 * iif(Detections has 'Paloalto:', 1, 0) +\n",
      "    0.99 * iif(Detections has 'Panda:', 1, 0) +\n",
      "    2.27 * iif(Detections has 'Rising:', 1, 0) +\n",
      "    0.59 * iif(Detections has 'SUPERAntiSpyware:', 1, 0) +\n",
      "    1.72 * iif(Detections has 'Sangfor:', 1, 0) +\n",
      "    1.29 * iif(Detections has 'SentinelOne:', 1, 0) +\n",
      "    1.76 * iif(Detections has 'Skyhigh:', 1, 0) +\n",
      "    1.52 * iif(Detections has 'Sophos:', 1, 0) +\n",
      "    2.36 * iif(Detections has 'Symantec:', 1, 0) +\n",
      "    0.71 * iif(Detections has 'SymantecMobileInsight:', 1, 0) +\n",
      "    0.62 * iif(Detections has 'TACHYON:', 1, 0) +\n",
      "    1.94 * iif(Detections has 'Tencent:', 1, 0) +\n",
      "    1.62 * iif(Detections has 'Trapmine:', 1, 0) +\n",
      "    1.08 * iif(Detections has 'TrendMicro:', 1, 0) +\n",
      "    2.3 * iif(Detections has 'TrendMicro-HouseCall:', 1, 0) +\n",
      "    0.6 * iif(Detections has 'Trustlook:', 1, 0) +\n",
      "    1.37 * iif(Detections has 'VBA32:', 1, 0) +\n",
      "    2.22 * iif(Detections has 'VIPRE:', 1, 0) +\n",
      "    1.85 * iif(Detections has 'Varist:', 1, 0) +\n",
      "    0.81 * iif(Detections has 'ViRobot:', 1, 0) +\n",
      "    0.85 * iif(Detections has 'VirIT:', 1, 0) +\n",
      "    0.76 * iif(Detections has 'Webroot:', 1, 0) +\n",
      "    0.83 * iif(Detections has 'Xcitium:', 1, 0) +\n",
      "    0.76 * iif(Detections has 'Yandex:', 1, 0) +\n",
      "    1.15 * iif(Detections has 'Zillya:', 1, 0) +\n",
      "    2.37 * iif(Detections has 'ZoneAlarm:', 1, 0) +\n",
      "    0.55 * iif(Detections has 'Zoner:', 1, 0) +\n",
      "    2.1 * iif(Detections has 'alibabacloud:', 1, 0) +\n",
      "    0.63 * iif(Detections has 'tehtris:', 1, 0)\n",
      "\n"
     ]
    }
   ],
   "source": [
    "# Rename the dataframe\n",
    "df = ks_results_filtered\n",
    "\n",
    "# Generate the scoring logic\n",
    "scoring_logic = \"\"\n",
    "for vendor in df.index:\n",
    "    vendor_formatted = vendor.replace('_', '-')\n",
    "    # score = vendor_scores.get(vendor_formatted, 0)\n",
    "    score = round(df.loc[vendor, 'Score'], 2)\n",
    "    scoring_logic += f\"    {score} * iif(Detections has '{vendor_formatted}:', 1, 0) +\\n\"\n",
    "\n",
    "# Remove the last '+' and '\\n'\n",
    "scoring_logic = scoring_logic.rstrip(' +\\n') + \"\\n\"\n",
    "\n",
    "# Display the scoring logic\n",
    "print(scoring_logic)\n"
   ]
  },
  {
   "cell_type": "code",
   "execution_count": null,
   "metadata": {},
   "outputs": [],
   "source": []
  }
 ],
 "metadata": {
  "kernelspec": {
   "display_name": "venv",
   "language": "python",
   "name": "python3"
  },
  "language_info": {
   "codemirror_mode": {
    "name": "ipython",
    "version": 3
   },
   "file_extension": ".py",
   "mimetype": "text/x-python",
   "name": "python",
   "nbconvert_exporter": "python",
   "pygments_lexer": "ipython3",
   "version": "3.12.4"
  }
 },
 "nbformat": 4,
 "nbformat_minor": 2
}
