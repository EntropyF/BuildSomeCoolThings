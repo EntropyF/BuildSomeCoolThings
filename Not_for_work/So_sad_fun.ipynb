{
 "cells": [
  {
   "cell_type": "code",
   "execution_count": 2,
   "metadata": {},
   "outputs": [
    {
     "name": "stdout",
     "output_type": "stream",
     "text": [
      "Login successful\n",
      "<!DOCTYPE html>\n",
      "<html lang=\"zh-CN\">\n",
      " <head>\n",
      "  <link href=\"/css/app.css\" rel=\"stylesheet\"/>\n",
      "  <title>\n",
      "   废文网-有趣有品有点丧\n",
      "  </title>\n",
      " </head>\n",
      " <body class=\"firewall-page\">\n",
      "  <div class=\"container-fluid\">\n",
      "   <div class=\"content\">\n",
      "    <div class=\"title\">\n",
      "     <h1>\n",
      "      废文网成立于2017年，鼓励优质创作，鼓励友好交流，鼓励题材百花齐放。生活中的种种束缚已经太多，我们真诚地希望，在这里，作者能享受自由创作的快乐、读者能享受自由阅读的快乐、不同身份的人都能找到属于自己的怡然自得。\n",
      "     </h1>\n",
      "     <h4>\n",
      "      用户需更新浏览器版本或登陆后重新访问，如有疑问，请联系管理员。\n",
      "     </h4>\n",
      "     <h4>\n",
      "      当前IP：82.37.132.81\n",
      "     </h4>\n",
      "     <br/>\n",
      "     <h4>\n",
      "      邮箱：sosadfun@gmail.com\n",
      "     </h4>\n",
      "     <br/>\n",
      "     <h5>\n",
      "      废文网技术团队2022-04-28\n",
      "     </h5>\n",
      "    </div>\n",
      "   </div>\n",
      "  </div>\n",
      " </body>\n",
      "</html>\n",
      "\n"
     ]
    }
   ],
   "source": [
    "import requests\n",
    "from bs4 import BeautifulSoup\n",
    "\n",
    "# Replace these with your actual login credentials and the login URL\n",
    "login_url = 'https://www.sosad.fun/login'\n",
    "username = '熵x殇'\n",
    "password = 'ugqkdoyr4596'\n",
    "\n",
    "# Start a session\n",
    "session = requests.Session()\n",
    "\n",
    "# Login payload\n",
    "payload = {\n",
    "    'username': username,\n",
    "    'password': password\n",
    "}\n",
    "\n",
    "# Perform login\n",
    "response = session.post(login_url, data=payload)\n",
    "\n",
    "# Check if login was successful\n",
    "if response.ok:\n",
    "    print(\"Login successful\")\n",
    "    \n",
    "    # Now access the target page\n",
    "    target_url = 'https://www.sosad.fun/posts/14024764'\n",
    "    response = session.get(target_url)\n",
    "\n",
    "    if response.ok:\n",
    "        # Parse the content with BeautifulSoup\n",
    "        soup = BeautifulSoup(response.content, 'html.parser')\n",
    "\n",
    "        # Print the page content\n",
    "        print(soup.prettify())\n",
    "    else:\n",
    "        print(\"Failed to retrieve the target page\")\n",
    "else:\n",
    "    print(\"Login failed\")\n"
   ]
  }
 ],
 "metadata": {
  "kernelspec": {
   "display_name": "Python 3",
   "language": "python",
   "name": "python3"
  },
  "language_info": {
   "codemirror_mode": {
    "name": "ipython",
    "version": 3
   },
   "file_extension": ".py",
   "mimetype": "text/x-python",
   "name": "python",
   "nbconvert_exporter": "python",
   "pygments_lexer": "ipython3",
   "version": "3.9.7"
  }
 },
 "nbformat": 4,
 "nbformat_minor": 2
}
